{
 "cells": [
  {
   "attachments": {},
   "cell_type": "markdown",
   "metadata": {},
   "source": [
    "# Ball Prediction Visualisation"
   ]
  },
  {
   "cell_type": "code",
   "execution_count": null,
   "metadata": {},
   "outputs": [],
   "source": [
    "import time\n",
    "\n",
    "import numpy as np\n",
    "\n",
    "import ball_models"
   ]
  },
  {
   "attachments": {},
   "cell_type": "markdown",
   "metadata": {},
   "source": [
    "## Import and Loading of Predictor"
   ]
  },
  {
   "cell_type": "code",
   "execution_count": null,
   "metadata": {},
   "outputs": [],
   "source": [
    "import pathlib\n",
    "import tomlkit\n",
    "\n",
    "\n",
    "def load_toml(file_path: str):\n",
    "    with open(pathlib.Path(file_path), mode=\"r\") as fp:\n",
    "        config = fp.read()\n",
    "        config_dict = dict(tomlkit.parse(config))\n",
    "\n",
    "    return config_dict\n",
    "\n",
    "\n",
    "config_path = pathlib.Path(\n",
    "    \"/home/adittrich/test_workspace/workspace/src/ball_prediction/config/config.toml\"\n",
    ")\n",
    "config = load_toml(config_path)"
   ]
  },
  {
   "attachments": {},
   "cell_type": "markdown",
   "metadata": {},
   "source": [
    "## Import data"
   ]
  },
  {
   "cell_type": "code",
   "execution_count": null,
   "metadata": {},
   "outputs": [],
   "source": [
    "from aimy_target_shooting.export_tools import import_all_from_hdf5\n",
    "\n",
    "path = \"/home/adittrich/Nextcloud/82_Data_Processed/MN5008_training_data_with_outlier/MN5008_grid_data_equal_speeds.hdf5\"\n",
    "collection = import_all_from_hdf5(file_path=path)\n",
    "\n",
    "data = collection.get_item(12)\n",
    "time_stamps = np.array(data.time_stamps)\n",
    "positions = np.array(data.positions)\n",
    "velocities = np.array(data.velocities)"
   ]
  },
  {
   "attachments": {},
   "cell_type": "markdown",
   "metadata": {},
   "source": [
    "# Load predictor"
   ]
  },
  {
   "cell_type": "code",
   "execution_count": null,
   "metadata": {},
   "outputs": [],
   "source": [
    "from ball_prediction.trajectory_prediction import TrajectoryPredictor\n",
    "\n",
    "init_buffer_size = config[\"setting\"][\"init_buffer_size\"]\n",
    "predictor = TrajectoryPredictor(config)\n",
    "\n",
    "time_stamps_predictions = []\n",
    "position_predictions = []\n",
    "\n",
    "time_stamps_predictions_unfiltered = []\n",
    "position_predictions_unfiltered = []\n",
    "\n",
    "for i in range(len(positions)):\n",
    "    t_current = time_stamps[i]\n",
    "    p = positions[i]\n",
    "    v = velocities[i]\n",
    "\n",
    "    z = np.hstack((p, v))\n",
    "\n",
    "    t_0 = time.time()\n",
    "    # <------------------------------------>\n",
    "    predictor.input_samples(z, t_current)\n",
    "    # <------------------------------------>\n",
    "    deltat = time.time() - t_0\n",
    "\n",
    "    if i % 10 == 0 and i > 20:\n",
    "        # print(f\"Update time: {deltat}\")\n",
    "\n",
    "        t_0 = time.time()\n",
    "        # <-------------------------->\n",
    "        predictor.predict_horizon()\n",
    "        # <-------------------------->\n",
    "        deltat = time.time() - t_0\n",
    "        print(f\"Prediction time: {deltat}\")\n",
    "\n",
    "        # Uniltered Predictions\n",
    "        t_pred, q_pred = predictor.get_prediction(filter=False)\n",
    "        time_stamps_predictions_unfiltered.append(t_pred)\n",
    "        position_predictions_unfiltered.append(q_pred)\n",
    "\n",
    "        # Filtered Predictions\n",
    "        t_pred, q_pred = predictor.get_prediction()\n",
    "        time_stamps_predictions.append(t_pred)\n",
    "        position_predictions.append(q_pred)\n",
    "\n",
    "positions_estimated = np.array(predictor.q_ests)"
   ]
  }
 ],
 "metadata": {
  "kernelspec": {
   "display_name": "aimy",
   "language": "python",
   "name": "python3"
  },
  "language_info": {
   "codemirror_mode": {
    "name": "ipython",
    "version": 3
   },
   "file_extension": ".py",
   "mimetype": "text/x-python",
   "name": "python",
   "nbconvert_exporter": "python",
   "pygments_lexer": "ipython3",
   "version": "3.10.9"
  },
  "orig_nbformat": 4
 },
 "nbformat": 4,
 "nbformat_minor": 2
}
