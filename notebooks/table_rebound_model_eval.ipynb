{
 "cells": [
  {
   "cell_type": "markdown",
   "metadata": {},
   "source": [
    "# Evaluation of literature table contact models\n",
    "\n",
    "Approach:\n",
    "We compare the prediction capabilities of the implemented table contact models of 10 different trajectories with known initial spin.\n",
    "\n",
    "- 5 ball trajectories with known backspin\n",
    "- 5 ball trajectories with known topspin\n",
    "- 3 ball trajectories without spin"
   ]
  },
  {
   "cell_type": "code",
   "execution_count": 1,
   "metadata": {},
   "outputs": [],
   "source": [
    "import numpy as np\n",
    "\n",
    "from ball_prediction.models.table_rebound_model import *\n",
    "from ball_prediction.utils.data_management import load_robot_ball_data, load_ball_data\n",
    "\n",
    "np.set_printoptions(suppress=True)"
   ]
  },
  {
   "cell_type": "markdown",
   "metadata": {},
   "source": [
    "## Load data"
   ]
  },
  {
   "cell_type": "code",
   "execution_count": 2,
   "metadata": {},
   "outputs": [],
   "source": [
    "file_path_nospin = \"/home/lis/workspace/spin_project/workspace/src/ball_prediction/data/no_spin_robot_simple.hdf5\"\n",
    "file_path_backspin = \"/home/lis/workspace/spin_project/workspace/src/ball_prediction/data/mn5008_backspin.hdf5\"\n",
    "file_path_topspin = \"/home/lis/workspace/spin_project/workspace/src/ball_prediction/data/mn5008_topspin.hdf5\"\n",
    "file_path_robot = \"/home/lis/workspace/spin_project/workspace/src/ball_prediction/data/no_spin_robot.hdf5\"\n",
    "\n",
    "collection_nospin = load_ball_data(file_path_nospin)\n",
    "collection_backspin = load_ball_data(file_path_backspin)\n",
    "collection_topspin = load_ball_data(file_path_topspin)\n",
    "collection_robot = load_robot_ball_data(file_path_robot)\n",
    "\n",
    "collection = collection_robot\n",
    "\n",
    "index = str(10)\n",
    "start = 10\n",
    "end = 50\n",
    "\n",
    "ball_time_stamps = collection[index][\"ball_time_stamps\"]\n",
    "ball_positions = collection[index][\"ball_positions\"]\n",
    "ball_velocities = collection[index][\"ball_velocities\"]\n",
    "\n",
    "time_stamps = np.array(ball_time_stamps)\n",
    "positions = np.array(ball_positions)\n",
    "velocities = np.array(ball_velocities)\n",
    "\n",
    "omega_nospin = [0.0, 0.0, 0.0]\n",
    "omega_backspin = [0.0, -60.0, 0.0]\n",
    "omega_topspin = [0.0, 40.0, 0.0]"
   ]
  },
  {
   "cell_type": "markdown",
   "metadata": {},
   "source": [
    "## Trajectory simulation"
   ]
  },
  {
   "cell_type": "code",
   "execution_count": 3,
   "metadata": {},
   "outputs": [],
   "source": [
    "from ball_prediction.models.rebound_detection import detect_rebounds\n",
    "from ball_prediction.models.ball_simulation import BallSimulationSpin\n",
    "\n",
    "BallSimulationSpin()\n",
    "\n",
    "simulation_steps_after_rebound = 20\n"
   ]
  },
  {
   "cell_type": "code",
   "execution_count": 4,
   "metadata": {},
   "outputs": [
    {
     "name": "stdout",
     "output_type": "stream",
     "text": [
      "{145: <ContactType.RACKET: 'racket'>, 74: <ContactType.TABLE: 'table'>, 191: <ContactType.TABLE: 'table'>, 293: <ContactType.TABLE: 'table'>}\n"
     ]
    }
   ],
   "source": [
    "contact_dict = detect_rebounds(time_stamps, positions)\n",
    "\n"
   ]
  },
  {
   "cell_type": "markdown",
   "metadata": {},
   "source": [
    "## Load table contact models\n"
   ]
  },
  {
   "cell_type": "code",
   "execution_count": null,
   "metadata": {},
   "outputs": [],
   "source": []
  }
 ],
 "metadata": {
  "kernelspec": {
   "display_name": "spin",
   "language": "python",
   "name": "python3"
  },
  "language_info": {
   "codemirror_mode": {
    "name": "ipython",
    "version": 3
   },
   "file_extension": ".py",
   "mimetype": "text/x-python",
   "name": "python",
   "nbconvert_exporter": "python",
   "pygments_lexer": "ipython3",
   "version": "3.9.16"
  },
  "orig_nbformat": 4
 },
 "nbformat": 4,
 "nbformat_minor": 2
}
