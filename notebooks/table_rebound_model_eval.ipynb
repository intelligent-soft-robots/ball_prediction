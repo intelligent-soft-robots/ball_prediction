{
 "cells": [
  {
   "cell_type": "markdown",
   "metadata": {},
   "source": [
    "# Evaluation of literature table contact models\n",
    "\n",
    "Approach:\n",
    "We compare the prediction capabilities of the implemented table contact models of 10 different trajectories with known initial spin.\n",
    "\n",
    "- 5 ball trajectories with known backspin\n",
    "- 5 ball trajectories with known topspin\n",
    "- 3 ball trajectories without spin"
   ]
  },
  {
   "cell_type": "markdown",
   "metadata": {},
   "source": [
    "## Load data"
   ]
  },
  {
   "cell_type": "code",
   "execution_count": null,
   "metadata": {},
   "outputs": [],
   "source": []
  },
  {
   "cell_type": "markdown",
   "metadata": {},
   "source": [
    "## Load table contact models\n"
   ]
  },
  {
   "cell_type": "code",
   "execution_count": null,
   "metadata": {},
   "outputs": [],
   "source": []
  }
 ],
 "metadata": {
  "language_info": {
   "name": "python"
  },
  "orig_nbformat": 4
 },
 "nbformat": 4,
 "nbformat_minor": 2
}
