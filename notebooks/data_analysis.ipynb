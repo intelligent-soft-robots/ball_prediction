{
 "cells": [
  {
   "cell_type": "code",
   "execution_count": 6,
   "metadata": {},
   "outputs": [
    {
     "ename": "IndexError",
     "evalue": "list index out of range",
     "output_type": "error",
     "traceback": [
      "\u001b[0;31m---------------------------------------------------------------------------\u001b[0m",
      "\u001b[0;31mIndexError\u001b[0m                                Traceback (most recent call last)",
      "\u001b[1;32m/home/lis/workspace/spin_project/workspace/src/ball_prediction/notebooks/data_analysis.ipynb Cell 1\u001b[0m line \u001b[0;36m1\n\u001b[1;32m     <a href='vscode-notebook-cell:/home/lis/workspace/spin_project/workspace/src/ball_prediction/notebooks/data_analysis.ipynb#W0sZmlsZQ%3D%3D?line=13'>14</a>\u001b[0m time_stamps \u001b[39m=\u001b[39m content[\u001b[39m0\u001b[39m]\n\u001b[1;32m     <a href='vscode-notebook-cell:/home/lis/workspace/spin_project/workspace/src/ball_prediction/notebooks/data_analysis.ipynb#W0sZmlsZQ%3D%3D?line=14'>15</a>\u001b[0m ball_positions \u001b[39m=\u001b[39m content[\u001b[39m1\u001b[39m]\n\u001b[0;32m---> <a href='vscode-notebook-cell:/home/lis/workspace/spin_project/workspace/src/ball_prediction/notebooks/data_analysis.ipynb#W0sZmlsZQ%3D%3D?line=15'>16</a>\u001b[0m ball_velocities \u001b[39m=\u001b[39m content[\u001b[39m3\u001b[39;49m]\n\u001b[1;32m     <a href='vscode-notebook-cell:/home/lis/workspace/spin_project/workspace/src/ball_prediction/notebooks/data_analysis.ipynb#W0sZmlsZQ%3D%3D?line=16'>17</a>\u001b[0m \u001b[39mprint\u001b[39m(content)\n\u001b[1;32m     <a href='vscode-notebook-cell:/home/lis/workspace/spin_project/workspace/src/ball_prediction/notebooks/data_analysis.ipynb#W0sZmlsZQ%3D%3D?line=17'>18</a>\u001b[0m \u001b[39mprint\u001b[39m(content[\u001b[39m3\u001b[39m])\n",
      "\u001b[0;31mIndexError\u001b[0m: list index out of range"
     ]
    }
   ],
   "source": [
    "import pickle\n",
    "import matplotlib.pyplot as plt\n",
    "\n",
    "file_path = \"/home/lis/Desktop/TTData/recording_philipp_tobuschat/Dataset/Data/Iterator_20_estimator\"\n",
    "\n",
    "content = []\n",
    "with open(file=file_path, mode=\"rb\") as file:\n",
    "    while True:\n",
    "        try:\n",
    "            content.append(pickle.load(file))\n",
    "        except:\n",
    "            break\n",
    "\n",
    "time_stamps = content[0]\n",
    "ball_positions = content[1]\n",
    "ball_velocities = content[2]\n",
    "\n",
    "plt.plot(content[1].T)\n",
    "plt.show()"
   ]
  }
 ],
 "metadata": {
  "kernelspec": {
   "display_name": "spin",
   "language": "python",
   "name": "python3"
  },
  "language_info": {
   "codemirror_mode": {
    "name": "ipython",
    "version": 3
   },
   "file_extension": ".py",
   "mimetype": "text/x-python",
   "name": "python",
   "nbconvert_exporter": "python",
   "pygments_lexer": "ipython3",
   "version": "3.9.16"
  },
  "orig_nbformat": 4
 },
 "nbformat": 4,
 "nbformat_minor": 2
}
