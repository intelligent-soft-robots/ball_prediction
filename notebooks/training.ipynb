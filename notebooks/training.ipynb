{
 "cells": [
  {
   "cell_type": "markdown",
   "metadata": {},
   "source": [
    "## Load Data"
   ]
  },
  {
   "cell_type": "code",
   "execution_count": 8,
   "metadata": {},
   "outputs": [],
   "source": [
    "# load data\n",
    "# normalize data"
   ]
  },
  {
   "cell_type": "markdown",
   "metadata": {},
   "source": [
    "### Table Rebound Data"
   ]
  },
  {
   "cell_type": "code",
   "execution_count": 1,
   "metadata": {},
   "outputs": [],
   "source": [
    "q_before_data_TRM = []\n",
    "q_after_data_TRM = []\n",
    "\n",
    "# v_ball_x, v_ball_y, v_ball_z, omega_ball_x, omega_ball_y, omega_ball_z\n",
    "# or\n",
    "# v_ball_x, v_ball_y, v_ball_z, F_ball_magnus_x, F_ball_magnus_y, F_ball_magnus_z\n",
    "input_TRM = 6\n",
    "\n",
    "# v_ball_x, v_ball_y, v_ball_z, omega_ball_x, omega_ball_y, omega_ball_z\n",
    "# or\n",
    "# v_ball_x, v_ball_y, v_ball_z, F_ball_magnus_x, F_ball_magnus_y, F_ball_magnus_z\n",
    "output_TRM = 6"
   ]
  },
  {
   "cell_type": "markdown",
   "metadata": {},
   "source": [
    "### Racket Rebound Data"
   ]
  },
  {
   "cell_type": "code",
   "execution_count": null,
   "metadata": {},
   "outputs": [],
   "source": [
    "q_before_data_RRM = []\n",
    "q_after_data_RRM = []\n",
    "\n",
    "# v_ball_x, v_ball_y, v_ball_z, omega_ball_x, omega_ball_y, omega_ball_z, v_racket_y, v_racket_z, n_racket_x, n_racket_y, n_racket_z\n",
    "# or\n",
    "# v_ball_x, v_ball_y, v_ball_z, F_ball_magnus_x, F_ball_magnus_y, F_ball_magnus_z, v_racket_x, v_racket_y, v_racket_z, n_racket_x, n_racket_y, n_racket_z\n",
    "input_RRM = 12\n",
    "\n",
    "# v_ball_x, v_ball_y, v_ball_z, omega_ball_x, omega_ball_y, omega_ball_z\n",
    "# or\n",
    "# v_ball_x, v_ball_y, v_ball_z, F_ball_magnus_x, F_ball_magnus_y, F_ball_magnus_z\n",
    "output_RRM = 6"
   ]
  },
  {
   "cell_type": "markdown",
   "metadata": {},
   "source": [
    "## Gaussian Process Training"
   ]
  },
  {
   "cell_type": "code",
   "execution_count": 19,
   "metadata": {},
   "outputs": [],
   "source": [
    "import os\n",
    "import datetime\n",
    "\n",
    "current_time = datetime.datetime.now().strftime(\"%Y%m%d-%H%M%S\")\n",
    "save_dir = \"/home/lis/switchdrive/80_data/table_tennis/\" \n",
    "\n",
    "model_type = \"TRM\"\n",
    "trainer_name = \"GP\"\n",
    "save_dir = save_dir + current_time + \"_\" + model_type + \"_\" + trainer_name\n",
    "\n",
    "if not os.path.exists(save_dir):\n",
    "    os.makedirs(save_dir)\n",
    "\n",
    "if model_type == \"TRM\":\n",
    "    input_data = q_before_data_TRM\n",
    "    output_data = q_after_data_TRM\n",
    "elif model_type == \"RRM\":\n",
    "    input_data = q_before_data_RRM\n",
    "    output_data = q_after_data_RRM\n",
    "else:\n",
    "    raise ValueError(f\"Model type {model_type} unknown.\")"
   ]
  },
  {
   "cell_type": "code",
   "execution_count": null,
   "metadata": {},
   "outputs": [],
   "source": [
    "from ball_prediction.contact_models.model_learning import GaussianProcessTraining\n",
    "from sklearn.gaussian_process.kernels import Kernel, RBF, Matern, DotProduct, RationalQuadratic, ConstantKernel\n",
    "\n",
    "#kernel = Matern(length_scale=1.0, nu=1.5)  # Choose a kernel\n",
    "#kernel_params = {\"length_scale\": 2.0, \"nu\": 2.5}  # Set kernel parameters\n",
    "\n",
    "kernel = RBF(length_scale=2.0)  # Choose an RBF kernel with length_scale=2.0\n",
    "kernel_params = {\"length_scale_bounds\": (0.1, 10.0)}  # Set kernel parameters\n",
    "\n",
    "gp_trainer = GaussianProcessTraining(\n",
    "    kernel=kernel,\n",
    "    kernel_params=kernel_params,\n",
    "    use_tensorboard=True,\n",
    "    use_wandb=True,\n",
    ")\n",
    "\n",
    "# Train and evaluate the Gaussian Process\n",
    "gp_trainer.train(input_data, output_data)\n",
    "mse = gp_trainer.evaluate(input_data, output_data)\n",
    "\n",
    "print(\"Mean Squared Error:\", mse)\n",
    "\n",
    "# Save the trained GP and kernel\n",
    "save_dir = \"saved_gp\"\n",
    "gp_trainer.save(save_dir)\n",
    "\n",
    "# Load the trained GP and kernel\n",
    "loaded_gp_trainer = GaussianProcessTraining.load(save_dir)"
   ]
  },
  {
   "cell_type": "markdown",
   "metadata": {},
   "source": [
    "## DNN Training"
   ]
  },
  {
   "cell_type": "code",
   "execution_count": 17,
   "metadata": {},
   "outputs": [],
   "source": [
    "import os\n",
    "import datetime\n",
    "\n",
    "current_time = datetime.datetime.now().strftime(\"%Y%m%d-%H%M%S\")\n",
    "save_dir = \"/home/lis/switchdrive/80_data/table_tennis/\" \n",
    "\n",
    "model_type = \"TRM\"\n",
    "trainer_name = \"DNN\"\n",
    "save_dir = save_dir + current_time + \"_\" + model_type + \"_\" + trainer_name\n",
    "\n",
    "if not os.path.exists(save_dir):\n",
    "    os.makedirs(save_dir)\n",
    "\n",
    "if model_type == \"TRM\":\n",
    "    input_data = q_before_data_TRM\n",
    "    output_data = q_after_data_TRM\n",
    "\n",
    "    input_dim = input_TRM\n",
    "    output_dim = output_TRM\n",
    "elif model_type == \"RRM\":\n",
    "    input_data = q_before_data_RRM\n",
    "    output_data = q_after_data_RRM\n",
    "\n",
    "    input_dim = input_RRM\n",
    "    output_dim = output_RRM\n",
    "else:\n",
    "    raise ValueError(f\"Model type {model_type} unknown.\")"
   ]
  },
  {
   "cell_type": "markdown",
   "metadata": {},
   "source": [
    "### Specify model"
   ]
  },
  {
   "cell_type": "code",
   "execution_count": null,
   "metadata": {},
   "outputs": [],
   "source": [
    "import torch.optim as optim\n",
    "\n",
    "from ball_prediction.contact_models.model_learning import DNNTraining\n",
    "from ball_prediction.contact_models.model_learning import ReboundModel\n",
    "\n",
    "num_samples = 1000\n",
    "num_epochs = 100\n",
    "learning_rate = 0.001\n",
    "hidden_neurons = [128, 64]  # Number of neurons for each hidden layer\n",
    "use_layer_norm = True  # Enable or disable layer normalization\n",
    "dropout_rate = 0.2  # Dropout rate, set to 0 to disable dropout\n",
    "\n",
    "model = ReboundModel(\n",
    "    input_dim=input_data,\n",
    "    output_dim=output_data,\n",
    "    hidden_neurons=hidden_neurons,\n",
    "    use_layer_norm=use_layer_norm,\n",
    "    dropout_rate=dropout_rate,\n",
    ")\n",
    "\n",
    "optimizer_class = optim.Adam  # Choose your optimizer class\n",
    "optimizer_params = {\"betas\": (0.9, 0.999)}  # Specify optimizer parameters\n",
    "\n",
    "DNN_trainer = DNNTraining(\n",
    "    model=model,\n",
    "    optimizer_class=optimizer_class,\n",
    "    optimizer_params=optimizer_params,\n",
    "    num_epochs=100,\n",
    "    learning_rate=0.001,\n",
    "    use_tensorboard=True,\n",
    "    use_wandb=True,\n",
    ")\n",
    "\n",
    "DNN_trainer.train(input_data, output_data)\n",
    "DNN_trainer.save(save_dir)"
   ]
  },
  {
   "cell_type": "markdown",
   "metadata": {},
   "source": [
    "### Hyperparameter tuning"
   ]
  },
  {
   "cell_type": "code",
   "execution_count": null,
   "metadata": {},
   "outputs": [],
   "source": [
    "from ball_prediction.contact_models.hyperparameter_tuning import (\n",
    "    population_based_search,\n",
    "    bayesian_optimization,\n",
    "    random_search,\n",
    ")\n",
    "from ball_prediction.contact_models.model_learning import DNNTraining\n",
    "from ball_prediction.contact_models.model_learning import ReboundModel\n",
    "\n",
    "\n",
    "best_params, best_score = population_based_search(\n",
    "    model_class=ReboundModel,\n",
    "    training_class=DNNTraining,\n",
    "    input_data=input_data,\n",
    "    output_data=output_data,\n",
    "    input_dim=input_dim,\n",
    "    output_dim=output_dim,\n",
    ")"
   ]
  },
  {
   "cell_type": "markdown",
   "metadata": {},
   "source": [
    "## PINN Training\n"
   ]
  },
  {
   "cell_type": "code",
   "execution_count": null,
   "metadata": {},
   "outputs": [],
   "source": [
    "import os\n",
    "import datetime\n",
    "\n",
    "current_time = datetime.datetime.now().strftime(\"%Y%m%d-%H%M%S\")\n",
    "save_dir = \"/home/lis/switchdrive/80_data/table_tennis/\" \n",
    "\n",
    "model_type = \"TRM\"\n",
    "trainer_name = \"PINN\"\n",
    "save_dir = save_dir + current_time + \"_\" + model_type + \"_\" + trainer_name\n",
    "\n",
    "if not os.path.exists(save_dir):\n",
    "    os.makedirs(save_dir)\n",
    "\n",
    "if model_type == \"TRM\":\n",
    "    input_data = q_before_data_TRM\n",
    "    output_data = q_after_data_TRM\n",
    "\n",
    "    input_dim = input_TRM\n",
    "    output_dim = output_TRM\n",
    "elif model_type == \"RRM\":\n",
    "    input_data = q_before_data_RRM\n",
    "    output_data = q_after_data_RRM\n",
    "\n",
    "    input_dim = input_RRM\n",
    "    output_dim = output_RRM\n",
    "else:\n",
    "    raise ValueError(f\"Model type {model_type} unknown.\")"
   ]
  },
  {
   "cell_type": "markdown",
   "metadata": {},
   "source": [
    "### Manual parameter selection"
   ]
  },
  {
   "cell_type": "code",
   "execution_count": null,
   "metadata": {},
   "outputs": [],
   "source": [
    "import torch\n",
    "\n",
    "def custom_physics_loss(\n",
    "    predicted: torch.Tensor,\n",
    "    ground_truth: torch.Tensor,\n",
    "    output_pred: torch.Tensor,\n",
    ") -> torch.Tensor:\n",
    "    # Custom physics loss implementation\n",
    "    loss = ...  # Your custom loss calculation here\n",
    "    return loss"
   ]
  },
  {
   "cell_type": "code",
   "execution_count": null,
   "metadata": {},
   "outputs": [],
   "source": [
    "from ball_prediction.contact_models.model_learning import PINNTraining\n",
    "from ball_prediction.contact_models.model_learning import ReboundModel\n",
    "\n",
    "num_samples = 1000\n",
    "num_epochs = 100\n",
    "learning_rate = 0.001\n",
    "hidden_neurons = [128, 64]  # Number of neurons for each hidden layer\n",
    "use_layer_norm = True  # Enable or disable layer normalization\n",
    "dropout_rate = 0.2  # Dropout rate, set to 0 to disable dropout\n",
    "\n",
    "model = ReboundModel(\n",
    "    input_dim=input_dim,\n",
    "    output_dim=output_dim,\n",
    "    hidden_neurons=hidden_neurons,\n",
    "    use_layer_norm=use_layer_norm,\n",
    "    dropout_rate=dropout_rate,\n",
    ")\n",
    "optimizer_class = optim.Adam  # Choose your optimizer class\n",
    "optimizer_params = {\"betas\": (0.9, 0.999)}  # Specify optimizer parameters\n",
    "\n",
    "PINN_trainer = PINNTraining(\n",
    "    model=model,\n",
    "    optimizer_class=optimizer_class,\n",
    "    optimizer_params=optimizer_params,\n",
    "    num_epochs=100,\n",
    "    learning_rate=0.001,\n",
    "    physics_loss_fn=None,  # Provide your custom physics loss function\n",
    "    use_tensorboard=True,\n",
    "    use_wandb=True,\n",
    ")\n",
    "\n",
    "PINN_trainer.train(input_data, output_data)\n",
    "PINN_trainer.save(save_dir)"
   ]
  },
  {
   "cell_type": "markdown",
   "metadata": {},
   "source": [
    "### Hyperparameter Tuning"
   ]
  },
  {
   "cell_type": "code",
   "execution_count": null,
   "metadata": {},
   "outputs": [],
   "source": [
    "from ball_prediction.contact_models.hyperparameter_tuning import (\n",
    "    population_based_search,\n",
    "    bayesian_optimization,\n",
    "    random_search,\n",
    ")\n",
    "from ball_prediction.contact_models.model_learning import PINNTraining\n",
    "from ball_prediction.contact_models.model_learning import ReboundModel\n",
    "\n",
    "\n",
    "best_params, best_score = population_based_search(\n",
    "    model_class=ReboundModel,\n",
    "    training_class=PINNTraining,\n",
    "    input_data=input_data,\n",
    "    output_data=output_data,\n",
    "    input_dim=input_dim,\n",
    "    output_dim=output_dim,\n",
    ")"
   ]
  }
 ],
 "metadata": {
  "kernelspec": {
   "display_name": "spin",
   "language": "python",
   "name": "python3"
  },
  "language_info": {
   "codemirror_mode": {
    "name": "ipython",
    "version": 3
   },
   "file_extension": ".py",
   "mimetype": "text/x-python",
   "name": "python",
   "nbconvert_exporter": "python",
   "pygments_lexer": "ipython3",
   "version": "3.9.16"
  },
  "orig_nbformat": 4
 },
 "nbformat": 4,
 "nbformat_minor": 2
}
